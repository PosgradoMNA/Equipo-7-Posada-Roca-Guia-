{
  "cells": [
    {
      "cell_type": "markdown",
      "metadata": {
        "id": "view-in-github",
        "colab_type": "text"
      },
      "source": [
        "<a href=\"https://colab.research.google.com/github/PosgradoMNA/Equipo-7-Posada-Roca-Guia-/blob/main/Actividad_1_de_proyecto_final.ipynb\" target=\"_parent\"><img src=\"https://colab.research.google.com/assets/colab-badge.svg\" alt=\"Open In Colab\"/></a>"
      ]
    },
    {
      "cell_type": "markdown",
      "metadata": {
        "id": "CHk_TCtkBv9u"
      },
      "source": [
        "**Proyecto Final Actividad 1**\n",
        "\n",
        "**Base de datos sobre el impacto de gasto gubernamental en resultados de educación mundial, por país**\n",
        "\n",
        "**La organización que generó los datos es el Banco Mundial o World Bank Group**\n",
        "\n",
        "**Para descargar la información puede acceder a la siguiente liga: **\n",
        "https://data.worldbank.org/indicator\n",
        "\n",
        "**¿Qué datos contiene? **\n",
        "Esta base de datos o database contiene cifras que describen gasto anual individual de los gobiernos y la forma en que esta asignación afecta el desempeño académico de cada país. Con breve acercamiento, se observa que la cantidad de graduados decrece ante la falta de recursos, acompañado de elementos como incremento del desempeño, y falta de enrolamiento de niños a las escuelas.\n",
        "\n",
        "**Preguntas a responder**\n",
        "1. ¿Cuánto dinero gasta cada país en educación?\n",
        "2. ¿Qué regiones del mundo, o qué continentes invierten más en educación\n",
        "3. ¿Qué relación existe entre el desempleo y la falta de inversión en educación?\n",
        "4. ¿Cómo el hecho del solo invertir provoca tasas de terminación o no de los estudios?\n",
        "5. ¿Qué países tienen mejores resultados en contratación de los estudiantes y cómo esto está relacionado con su gato anual?\n",
        "6. ¿La tendencia de inversión en educación ha decrecido o aumentado en la última década?\n",
        "7. ¿Se tiene datos solidos para reestructurar la estrategia de asignación de gasto en educación?\n",
        "8. ¿Cuál es la relación entre la inversión en educación y el aumento o disminución de mano de obra en cada país?\n",
        "9. ¿Cómo esto afecta a que los alumnos tengas maestros mejor preparados?\n",
        "10. ¿Qué países se encontraban en tasas menores y aumentaron positivamente después de invertir en educación\n",
        "\n",
        "**¿Qué actor (empresa, sector de la sociedad, organismo descentralizado, gobierno, etc.) estaría interesado en las preguntas mencionadas que identificó? **\n",
        "\n",
        "Al tratarse de datos públicos y gubernamentales, suponemos que las dependencias académicas, como lo son la Secretaría de Educación Pública, la Secretaría del Trabajo y sus órganos desconcentrados, así como las secretarias estatales en la materia. Estas dependencias podrían tener interés en observar el resultado obtenido en esta actividad. Sin dejar a un lado que la Cámara de diputados puede también obtener utilidad, durante los procesos de aprobación de presupuesto anual dedicado a cada sector. Todo esto debido a que la educación desencadena otras actividades productivas nacionales.\n",
        "\n"
      ]
    }
  ],
  "metadata": {
    "colab": {
      "collapsed_sections": [],
      "provenance": [],
      "include_colab_link": true
    },
    "kernelspec": {
      "display_name": "Python 3 (ipykernel)",
      "language": "python",
      "name": "python3"
    },
    "language_info": {
      "codemirror_mode": {
        "name": "ipython",
        "version": 3
      },
      "file_extension": ".py",
      "mimetype": "text/x-python",
      "name": "python",
      "nbconvert_exporter": "python",
      "pygments_lexer": "ipython3",
      "version": "3.10.7"
    }
  },
  "nbformat": 4,
  "nbformat_minor": 0
}